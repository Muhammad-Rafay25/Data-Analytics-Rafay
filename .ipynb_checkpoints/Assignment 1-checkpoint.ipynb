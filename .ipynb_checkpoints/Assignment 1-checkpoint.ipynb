{
 "cells": [
  {
   "cell_type": "code",
   "execution_count": 1,
   "id": "03d20add-c605-40e2-babc-0fb7b5ff557c",
   "metadata": {},
   "outputs": [],
   "source": [
    "salaries = ['20k', '40k', '50k', '60k', '35k', '89k','40k']"
   ]
  },
  {
   "cell_type": "code",
   "execution_count": 3,
   "id": "d7cbc247-2ffc-44a8-bc8d-1885d037fc85",
   "metadata": {},
   "outputs": [
    {
     "data": {
      "text/plain": [
       "7"
      ]
     },
     "execution_count": 3,
     "metadata": {},
     "output_type": "execute_result"
    }
   ],
   "source": [
    "# What is the length of the salaries list.\n",
    "len(salaries)"
   ]
  },
  {
   "cell_type": "code",
   "execution_count": 7,
   "id": "d75ead54-f5ea-455e-aa2c-4a0b3de467f8",
   "metadata": {},
   "outputs": [
    {
     "data": {
      "text/plain": [
       "'50k'"
      ]
     },
     "execution_count": 7,
     "metadata": {},
     "output_type": "execute_result"
    }
   ],
   "source": [
    "# Retrieve the third salary in the list by using index.\n",
    "salaries[2]"
   ]
  },
  {
   "cell_type": "code",
   "execution_count": 9,
   "id": "fef5e315-2dbc-497b-a69a-deecf2d790be",
   "metadata": {},
   "outputs": [
    {
     "data": {
      "text/plain": [
       "'40k'"
      ]
     },
     "execution_count": 9,
     "metadata": {},
     "output_type": "execute_result"
    }
   ],
   "source": [
    "# Extract the last salary from the list by using a negative index.\n",
    "salaries[-1]"
   ]
  },
  {
   "cell_type": "code",
   "execution_count": 13,
   "id": "53406b4d-1875-4334-83bd-bf1e527e5fd6",
   "metadata": {},
   "outputs": [
    {
     "data": {
      "text/plain": [
       "['50k', '60k', '35k']"
      ]
     },
     "execution_count": 13,
     "metadata": {},
     "output_type": "execute_result"
    }
   ],
   "source": [
    "# Slice the salaries list to get only the middle three salaries.\n",
    "salaries[2:5]"
   ]
  },
  {
   "cell_type": "code",
   "execution_count": 15,
   "id": "4ff3090f-a3cd-417c-a8ac-2599a623b846",
   "metadata": {},
   "outputs": [],
   "source": [
    "# Add a new salary to the list, ‘100k’ by using append() method.\n",
    "salaries.append('100k')"
   ]
  },
  {
   "cell_type": "code",
   "execution_count": 17,
   "id": "7a23df19-f1bb-4976-918c-083f0459211a",
   "metadata": {},
   "outputs": [
    {
     "data": {
      "text/plain": [
       "['20k', '40k', '50k', '60k', '35k', '89k', '40k', '100k']"
      ]
     },
     "execution_count": 17,
     "metadata": {},
     "output_type": "execute_result"
    }
   ],
   "source": [
    "salaries"
   ]
  },
  {
   "cell_type": "code",
   "execution_count": 19,
   "id": "3640ca08-e4b2-45f6-b0dc-1abe1e0f5a2f",
   "metadata": {},
   "outputs": [],
   "source": [
    "# Add a new salary to the list, ‘120k’ without method.\n",
    "salaries = salaries + ['120k']"
   ]
  },
  {
   "cell_type": "code",
   "execution_count": 21,
   "id": "cb4cf5e7-76ec-458f-afbf-5bdd1f3a32ff",
   "metadata": {},
   "outputs": [
    {
     "data": {
      "text/plain": [
       "['20k', '40k', '50k', '60k', '35k', '89k', '40k', '100k', '120k']"
      ]
     },
     "execution_count": 21,
     "metadata": {},
     "output_type": "execute_result"
    }
   ],
   "source": [
    "salaries"
   ]
  },
  {
   "cell_type": "code",
   "execution_count": 23,
   "id": "abf1c2ae-17ac-42b4-9043-e51be20bad5a",
   "metadata": {},
   "outputs": [],
   "source": [
    "# Replace the third salary in the list with '55k' and print the updated list.\n",
    "salaries[2] = '55k'"
   ]
  },
  {
   "cell_type": "code",
   "execution_count": 25,
   "id": "bca74573-b1cc-44b3-b21a-44c393456048",
   "metadata": {},
   "outputs": [
    {
     "data": {
      "text/plain": [
       "['20k', '40k', '55k', '60k', '35k', '89k', '40k', '100k', '120k']"
      ]
     },
     "execution_count": 25,
     "metadata": {},
     "output_type": "execute_result"
    }
   ],
   "source": [
    "salaries"
   ]
  },
  {
   "cell_type": "code",
   "execution_count": 27,
   "id": "f8870e68-77a3-4315-af2a-62612ecc8da1",
   "metadata": {},
   "outputs": [],
   "source": [
    "# Count how many times '40k' appears in the list.\n",
    "count_40k = salaries.count('40k')"
   ]
  },
  {
   "cell_type": "code",
   "execution_count": 29,
   "id": "d280a2d8-9351-41fa-a581-dcd2f2ab1519",
   "metadata": {},
   "outputs": [
    {
     "name": "stdout",
     "output_type": "stream",
     "text": [
      "2\n"
     ]
    }
   ],
   "source": [
    "print(count_40k)"
   ]
  },
  {
   "cell_type": "code",
   "execution_count": 31,
   "id": "f6ea90d8-8557-4dba-9a91-83155ddad7e3",
   "metadata": {},
   "outputs": [],
   "source": [
    "# Insert a new salary at the second position.\n",
    "salaries.insert(1, '30k')"
   ]
  },
  {
   "cell_type": "code",
   "execution_count": 33,
   "id": "13856104-2691-4d95-8b98-31ebf0fad84b",
   "metadata": {},
   "outputs": [
    {
     "data": {
      "text/plain": [
       "['20k', '30k', '40k', '55k', '60k', '35k', '89k', '40k', '100k', '120k']"
      ]
     },
     "execution_count": 33,
     "metadata": {},
     "output_type": "execute_result"
    }
   ],
   "source": [
    "salaries"
   ]
  },
  {
   "cell_type": "code",
   "execution_count": 35,
   "id": "8547bc52-85a4-484c-a152-c7f5cf7bad06",
   "metadata": {},
   "outputs": [],
   "source": [
    "# Reverse the order of the salaries list with method.\n",
    "salaries.reverse()"
   ]
  },
  {
   "cell_type": "code",
   "execution_count": 37,
   "id": "82ff5543-d1ac-4959-a675-0bac359d1e6a",
   "metadata": {},
   "outputs": [
    {
     "data": {
      "text/plain": [
       "['120k', '100k', '40k', '89k', '35k', '60k', '55k', '40k', '30k', '20k']"
      ]
     },
     "execution_count": 37,
     "metadata": {},
     "output_type": "execute_result"
    }
   ],
   "source": [
    "salaries"
   ]
  },
  {
   "cell_type": "code",
   "execution_count": 41,
   "id": "8cd10c0e-4260-425b-96e0-163f14d70906",
   "metadata": {},
   "outputs": [],
   "source": [
    "# Reverse the order of the salaries list without method.\n",
    "salaries = salaries[::-1]"
   ]
  },
  {
   "cell_type": "code",
   "execution_count": 43,
   "id": "fb9c39a0-24f1-471b-8c1a-7b667c09fad4",
   "metadata": {},
   "outputs": [
    {
     "data": {
      "text/plain": [
       "['20k', '30k', '40k', '55k', '60k', '35k', '89k', '40k', '100k', '120k']"
      ]
     },
     "execution_count": 43,
     "metadata": {},
     "output_type": "execute_result"
    }
   ],
   "source": [
    "salaries"
   ]
  },
  {
   "cell_type": "code",
   "execution_count": null,
   "id": "0a04ca92-69ef-4036-8d6c-20cbb2f85904",
   "metadata": {},
   "outputs": [],
   "source": []
  }
 ],
 "metadata": {
  "kernelspec": {
   "display_name": "Python 3 (ipykernel)",
   "language": "python",
   "name": "python3"
  },
  "language_info": {
   "codemirror_mode": {
    "name": "ipython",
    "version": 3
   },
   "file_extension": ".py",
   "mimetype": "text/x-python",
   "name": "python",
   "nbconvert_exporter": "python",
   "pygments_lexer": "ipython3",
   "version": "3.12.7"
  }
 },
 "nbformat": 4,
 "nbformat_minor": 5
}
