{
 "cells": [
  {
   "cell_type": "code",
   "execution_count": 7,
   "id": "28fe69db-a353-458a-a323-3cad637aba90",
   "metadata": {},
   "outputs": [
    {
     "name": "stdin",
     "output_type": "stream",
     "text": [
      "Please Enter Your Age:  21\n"
     ]
    },
    {
     "name": "stdout",
     "output_type": "stream",
     "text": [
      "Adult\n"
     ]
    }
   ],
   "source": [
    "# Question 1: Age Group Classification\n",
    "age = int(input('Please Enter Your Age: '))\n",
    "if age <= 12:\n",
    "    print('Child')\n",
    "elif age <= 19:\n",
    "    print('Teenager')\n",
    "elif age <= 64:\n",
    "    print('Adult')\n",
    "else:\n",
    "    print('Senior')\n"
   ]
  },
  {
   "cell_type": "code",
   "execution_count": 13,
   "id": "cbf66805-bf12-40f9-874e-b27fa336f986",
   "metadata": {},
   "outputs": [
    {
     "name": "stdin",
     "output_type": "stream",
     "text": [
      "Enter Membership Status:  Premium\n",
      "Enter Purchase Amount:  200\n"
     ]
    },
    {
     "name": "stdout",
     "output_type": "stream",
     "text": [
      "Not Eligible For Discount\n"
     ]
    }
   ],
   "source": [
    "# Question 2: Checking for Eligibility for Discount\n",
    "membership_status = input('Enter Membership Status: ')\n",
    "purchase_amount = int(input('Enter Purchase Amount: '))\n",
    "if membership_status == 'Premium' and purchase_amount >= 1000:\n",
    "    print('Eligible For Discount')\n",
    "elif membership_status == 'Regular' and purchase_amount >= 2000:\n",
    "    print('Eligible For Discount')\n",
    "else:\n",
    "    print('Not Eligible For Discount')"
   ]
  },
  {
   "cell_type": "code",
   "execution_count": 17,
   "id": "aa4d301f-585b-42d2-ab17-1dd1af84f499",
   "metadata": {},
   "outputs": [
    {
     "name": "stdin",
     "output_type": "stream",
     "text": [
      "Enter Your Age:  22\n",
      "Your Citizenship Status Citizen/Non-Citizen:  citizen\n"
     ]
    },
    {
     "name": "stdout",
     "output_type": "stream",
     "text": [
      "Eligible To Vote\n"
     ]
    }
   ],
   "source": [
    "# Question 3: Voting Eligibility Check\n",
    "age = int(input('Enter Your Age: '))\n",
    "citizenship_status = input('Your Citizenship Status Citizen/Non-Citizen: ')\n",
    "if age >= 18 and citizenship_status == 'citizen':\n",
    "    print('Eligible To Vote')\n",
    "elif age >= 16 and citizenship_status == 'non-citizen':\n",
    "    print('Eligible To Vote')\n",
    "else:\n",
    "    print('Not Eligible To Vote')"
   ]
  },
  {
   "cell_type": "code",
   "execution_count": 29,
   "id": "80f98256-1324-4789-b5ef-8ad184fe05d6",
   "metadata": {},
   "outputs": [
    {
     "name": "stdin",
     "output_type": "stream",
     "text": [
      "Employee Performance:  Excellent\n",
      "Years Of Service:  4\n"
     ]
    },
    {
     "name": "stdout",
     "output_type": "stream",
     "text": [
      "Not Eligible for bonus\n"
     ]
    }
   ],
   "source": [
    "# Question 4: Employee Salary Bonus Eligibility\n",
    "x = input('Employee Performance: ')\n",
    "y = int(input('Years Of Service: '))\n",
    "if x == 'Excellent' and y >= 5:\n",
    "    print('Eligible for bonus')\n",
    "elif x == 'Good' and y >= 10:\n",
    "    print('Eligible for bonus')\n",
    "elif x == 'Satisfactory' or y >= 15:\n",
    "    print('Eligible for bonus')\n",
    "else:\n",
    "    print('Not Eligible for bonus')"
   ]
  },
  {
   "cell_type": "code",
   "execution_count": 35,
   "id": "a7f49086-a937-4ad0-a6a5-d95bcdf937cd",
   "metadata": {},
   "outputs": [],
   "source": [
    "# Question 5\n",
    "z = \"I'm Learning Python Programming\"\n"
   ]
  },
  {
   "cell_type": "code",
   "execution_count": 37,
   "id": "9c5b501e-2335-41d2-ad75-89c60d162b55",
   "metadata": {},
   "outputs": [
    {
     "data": {
      "text/plain": [
       "\"I'm Learning Python Programming\""
      ]
     },
     "execution_count": 37,
     "metadata": {},
     "output_type": "execute_result"
    }
   ],
   "source": [
    "z\n"
   ]
  },
  {
   "cell_type": "code",
   "execution_count": 44,
   "id": "4a87b9d2-0f73-475f-aae1-7bad02a7ee40",
   "metadata": {},
   "outputs": [],
   "source": [
    "z1 = z.replace(\" \",\"_\")\n"
   ]
  },
  {
   "cell_type": "code",
   "execution_count": 46,
   "id": "bcfa23c0-6744-42f0-a53a-0c57ef30a519",
   "metadata": {},
   "outputs": [
    {
     "data": {
      "text/plain": [
       "\"I'm_Learning_Python_Programming\""
      ]
     },
     "execution_count": 46,
     "metadata": {},
     "output_type": "execute_result"
    }
   ],
   "source": [
    "z1"
   ]
  },
  {
   "cell_type": "code",
   "execution_count": 50,
   "id": "92e0b992-52d2-4ec9-aa3d-098745fd3136",
   "metadata": {},
   "outputs": [],
   "source": [
    "count = z1.count(\"_\")"
   ]
  },
  {
   "cell_type": "code",
   "execution_count": 52,
   "id": "5c927f87-0bed-43c5-a4d8-4ef0af648a57",
   "metadata": {},
   "outputs": [
    {
     "data": {
      "text/plain": [
       "3"
      ]
     },
     "execution_count": 52,
     "metadata": {},
     "output_type": "execute_result"
    }
   ],
   "source": [
    "count"
   ]
  },
  {
   "cell_type": "code",
   "execution_count": 56,
   "id": "b4a87566-a3b6-421b-b08a-3be07b02b8e7",
   "metadata": {},
   "outputs": [],
   "source": [
    "count_underscore = z1.find(\"_\")"
   ]
  },
  {
   "cell_type": "code",
   "execution_count": 58,
   "id": "a395cb37-6d44-4386-a082-6796fe93f6ad",
   "metadata": {},
   "outputs": [
    {
     "data": {
      "text/plain": [
       "3"
      ]
     },
     "execution_count": 58,
     "metadata": {},
     "output_type": "execute_result"
    }
   ],
   "source": [
    "count_underscore"
   ]
  },
  {
   "cell_type": "code",
   "execution_count": 62,
   "id": "12eb2c3c-619b-494f-9dec-040784f8c64b",
   "metadata": {},
   "outputs": [
    {
     "name": "stdin",
     "output_type": "stream",
     "text": [
      "Enter a string:  I like playing cricket\n"
     ]
    },
    {
     "name": "stdout",
     "output_type": "stream",
     "text": [
      "String without the last 3 characters: I like playing cric\n",
      "Every second character of the string: Ilk lyn rce\n",
      "String in reverse: tekcirc gniyalp ekil I\n"
     ]
    }
   ],
   "source": [
    "# Question 6\n",
    "# Taking a string as input from the user\n",
    "input_string = input(\"Enter a string: \")\n",
    "\n",
    "# Printing all characters except the last 3 using slicing\n",
    "print(\"String without the last 3 characters:\", input_string[:-3])\n",
    "\n",
    "# Printing every second character of the string using slicing\n",
    "print(\"Every second character of the string:\", input_string[::2])\n",
    "\n",
    "# Printing the string in reverse using slicing\n",
    "print(\"String in reverse:\", input_string[::-1])\n"
   ]
  },
  {
   "cell_type": "code",
   "execution_count": 68,
   "id": "86fa5880-30fe-49ee-9cf8-ca9eba861a4e",
   "metadata": {},
   "outputs": [
    {
     "name": "stdout",
     "output_type": "stream",
     "text": [
      "Reversed sentence: Python learning are We World, Hello\n"
     ]
    }
   ],
   "source": [
    "# Question 7\n",
    "# Given sentence\n",
    "sentence = \"Hello World, We are learning Python\"\n",
    "\n",
    "# Split the sentence into words\n",
    "words = sentence.split()\n",
    "\n",
    "# Reverse the order of the words\n",
    "reversed_sentence = ' '.join(reversed(words))\n",
    "\n",
    "# Print the sentence with the words in reverse order\n",
    "print(\"Reversed sentence:\", reversed_sentence)"
   ]
  },
  {
   "cell_type": "code",
   "execution_count": 70,
   "id": "5a97e5a4-0da2-4516-8b30-153b7872ecc9",
   "metadata": {},
   "outputs": [
    {
     "name": "stdout",
     "output_type": "stream",
     "text": [
      "Extracted number: 12345\n"
     ]
    }
   ],
   "source": [
    "# Question 8\n",
    "# Given product code\n",
    "product_code = \"SKU-12345-XYZ\"\n",
    "\n",
    "# Remove \"SKU-\" and \"-XYZ\" to extract the number\n",
    "product_number = product_code.replace(\"SKU-\", \"\").replace(\"-XYZ\", \"\")\n",
    "\n",
    "# Print the extracted number\n",
    "print(\"Extracted number:\", product_number)"
   ]
  },
  {
   "cell_type": "code",
   "execution_count": 72,
   "id": "5c3802ba-f621-45c1-a8d9-89d54a81247e",
   "metadata": {},
   "outputs": [
    {
     "name": "stdin",
     "output_type": "stream",
     "text": [
      "Enter a sentence:  I love programming\n"
     ]
    },
    {
     "name": "stdout",
     "output_type": "stream",
     "text": [
      "The longest word is: programming\n"
     ]
    }
   ],
   "source": [
    "# Question 10\n",
    "# Function to find the longest word in a string\n",
    "def find_longest_word(sentence):\n",
    "    words = sentence.split()  # Split the sentence into words\n",
    "    longest_word = max(words, key=len)  # Find the word with the maximum length\n",
    "    return longest_word\n",
    "\n",
    "# Input sentence from the user\n",
    "sentence = input(\"Enter a sentence: \")\n",
    "\n",
    "# Find and print the longest word\n",
    "longest_word = find_longest_word(sentence)\n",
    "print(\"The longest word is:\", longest_word)\n"
   ]
  },
  {
   "cell_type": "code",
   "execution_count": null,
   "id": "18d3e9c1-2ce4-401f-90de-1a4f3196fadf",
   "metadata": {},
   "outputs": [],
   "source": []
  }
 ],
 "metadata": {
  "kernelspec": {
   "display_name": "Python 3 (ipykernel)",
   "language": "python",
   "name": "python3"
  },
  "language_info": {
   "codemirror_mode": {
    "name": "ipython",
    "version": 3
   },
   "file_extension": ".py",
   "mimetype": "text/x-python",
   "name": "python",
   "nbconvert_exporter": "python",
   "pygments_lexer": "ipython3",
   "version": "3.12.7"
  }
 },
 "nbformat": 4,
 "nbformat_minor": 5
}
