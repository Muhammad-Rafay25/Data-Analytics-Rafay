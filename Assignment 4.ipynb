{
 "cells": [
  {
   "cell_type": "code",
   "execution_count": 1,
   "id": "b7b1a62f-0454-4fe1-97eb-6ea7499f3fd3",
   "metadata": {},
   "outputs": [
    {
     "name": "stdout",
     "output_type": "stream",
     "text": [
      "(1, 2, 3)\n",
      "[4, 5, 6]\n",
      "('apple', 'banana', 'cherry')\n",
      "[7, 8, 9]\n",
      "(1, 2, 3, 7, 8, 9)\n"
     ]
    }
   ],
   "source": [
    "# Q1\n",
    "my_tuple = ((1, 2, 3), [4, 5, 6], ('apple', 'banana', 'cherry'), [7, 8, 9])\n",
    "for element in my_tuple:\n",
    "    print(element)\n",
    "new_tuple = my_tuple[0] + tuple(my_tuple[-1])\n",
    "print(new_tuple)"
   ]
  },
  {
   "cell_type": "code",
   "execution_count": 3,
   "id": "a93956b2-b7bf-4eb1-a87c-65a000abcbb8",
   "metadata": {},
   "outputs": [
    {
     "name": "stdout",
     "output_type": "stream",
     "text": [
      "['The Great Gatsby', 'Rich dad poor dad', 'Harry Potter', '1984']\n",
      "{'The Great Gatsby': {'price': 10.99, 'quantity': 5}, 'Rich dad poor dad': {'price': 8.99, 'quantity': 8}, 'Harry Potter': {'price': 12.5, 'quantity': 2}, '1984': {'price': 15.0, 'quantity': 10}}\n"
     ]
    }
   ],
   "source": [
    "# Q2\n",
    "inventory = {\n",
    "    \"The Great Gatsby\": {\"price\": 10.99, \"quantity\": 5},\n",
    "    \"Rich dad poor dad\": {\"price\": 8.99, \"quantity\": 8},\n",
    "    \"Harry Potter\": {\"price\": 12.50, \"quantity\": 2},\n",
    "}\n",
    "inventory[\"1984\"] = {\"price\": 15.00, \"quantity\": 10}\n",
    "print(list(inventory.keys()))\n",
    "inventory = {k: v for k, v in inventory.items() if v[\"quantity\"] > 0}\n",
    "print(inventory)"
   ]
  },
  {
   "cell_type": "code",
   "execution_count": 5,
   "id": "a9b982b5-9bec-4290-929a-f9cbb307f720",
   "metadata": {},
   "outputs": [
    {
     "name": "stdout",
     "output_type": "stream",
     "text": [
      "{101: {'name': 'Laptop', 'category': 'Electronics', 'price': 1200, 'stock': 50}, 102: {'name': 'Shirt', 'category': 'Apparel', 'price': 25, 'stock': 250}, 103: {'name': 'Coffee Maker', 'category': 'Home Appliances', 'price': 80, 'stock': 30}, 104: {'name': 'Smartphone', 'category': 'Electronics', 'price': 700, 'stock': 100}}\n"
     ]
    }
   ],
   "source": [
    "# Q3\n",
    "products = {\n",
    "    101: {\"name\": \"Laptop\", \"category\": \"Electronics\", \"price\": 1200, \"stock\": 50},\n",
    "    102: {\"name\": \"Shirt\", \"category\": \"Apparel\", \"price\": 25, \"stock\": 200},\n",
    "    103: {\"name\": \"Coffee Maker\", \"category\": \"Home Appliances\", \"price\": 80, \"stock\": 30},\n",
    "}\n",
    "products[102][\"stock\"] += 50\n",
    "products[104] = {\"name\": \"Smartphone\", \"category\": \"Electronics\", \"price\": 700, \"stock\": 100}\n",
    "print(products)"
   ]
  },
  {
   "cell_type": "code",
   "execution_count": 7,
   "id": "00a366cf-ce82-49ed-ac04-39807c7b2330",
   "metadata": {},
   "outputs": [
    {
     "name": "stdout",
     "output_type": "stream",
     "text": [
      "['apple', 'banana', 'grape', 'orange']\n"
     ]
    }
   ],
   "source": [
    "# Q4\n",
    "shopping_list = [\"apple\", \"banana\", \"apple\", \"orange\", \"banana\", \"grape\"]\n",
    "unique_items = list(set(shopping_list))\n",
    "print(unique_items)"
   ]
  },
  {
   "cell_type": "code",
   "execution_count": 9,
   "id": "9c39fc32-1ed2-42e5-a6d7-36f05e00e016",
   "metadata": {},
   "outputs": [
    {
     "name": "stdout",
     "output_type": "stream",
     "text": [
      "{'Bob', 'John'}\n",
      "{'John', 'Charlie', 'Bob', 'Eve'}\n"
     ]
    }
   ],
   "source": [
    "# Q5\n",
    "course_a = {\"John\", \"Alice\", \"Bob\", \"David\"}\n",
    "course_b = {\"Alice\", \"Eve\", \"Charlie\", \"David\"}\n",
    "only_in_a = course_a - course_b\n",
    "only_in_one = course_a ^ course_b\n",
    "print(only_in_a)\n",
    "print(only_in_one)"
   ]
  },
  {
   "cell_type": "code",
   "execution_count": 11,
   "id": "1a1568a8-0012-453e-8fac-812d17347435",
   "metadata": {},
   "outputs": [
    {
     "name": "stdout",
     "output_type": "stream",
     "text": [
      "Sum of all even numbers between 1 and 50: 650\n"
     ]
    }
   ],
   "source": [
    "# Q6\n",
    "sum_of_evens = 0\n",
    "\n",
    "for number in range(1, 51):\n",
    "    if number % 2 == 0:\n",
    "        sum_of_evens += number\n",
    "\n",
    "print(\"Sum of all even numbers between 1 and 50:\", sum_of_evens)\n"
   ]
  },
  {
   "cell_type": "code",
   "execution_count": 13,
   "id": "c0f99af6-90f0-4c06-913d-6dafe69ec2cc",
   "metadata": {},
   "outputs": [
    {
     "name": "stdin",
     "output_type": "stream",
     "text": [
      "Enter a number between 1 and 10:  4\n"
     ]
    },
    {
     "name": "stdout",
     "output_type": "stream",
     "text": [
      "4 x 1 = 4\n",
      "4 x 2 = 8\n",
      "4 x 3 = 12\n",
      "4 x 4 = 16\n",
      "4 x 5 = 20\n",
      "4 x 6 = 24\n",
      "4 x 7 = 28\n",
      "4 x 8 = 32\n",
      "4 x 9 = 36\n",
      "4 x 10 = 40\n"
     ]
    }
   ],
   "source": [
    "# Q7\n",
    "number = int(input(\"Enter a number between 1 and 10: \"))\n",
    "for i in range(1, 11):\n",
    "    print(f\"{number} x {i} = {number * i}\")"
   ]
  },
  {
   "cell_type": "code",
   "execution_count": 15,
   "id": "af91a266-0bb8-4715-86eb-96b0f77fe61b",
   "metadata": {},
   "outputs": [
    {
     "name": "stdin",
     "output_type": "stream",
     "text": [
      "Enter a number:  3\n"
     ]
    },
    {
     "name": "stdout",
     "output_type": "stream",
     "text": [
      "3^1 = 3\n",
      "3^2 = 9\n",
      "3^3 = 27\n",
      "3^4 = 81\n",
      "3^5 = 243\n",
      "3^6 = 729\n",
      "3^7 = 2187\n",
      "3^8 = 6561\n",
      "3^9 = 19683\n",
      "3^10 = 59049\n"
     ]
    }
   ],
   "source": [
    "# Q8\n",
    "num = int(input(\"Enter a number: \"))\n",
    "power = 1\n",
    "while power <= 10:\n",
    "    print(f\"{num}^{power} = {num ** power}\")\n",
    "    power += 1"
   ]
  },
  {
   "cell_type": "code",
   "execution_count": 17,
   "id": "f68c34d6-6138-42a2-ab55-48efaae313ac",
   "metadata": {},
   "outputs": [
    {
     "name": "stdin",
     "output_type": "stream",
     "text": [
      "Enter a number to start the countdown:  3\n"
     ]
    },
    {
     "name": "stdout",
     "output_type": "stream",
     "text": [
      "3\n",
      "2\n",
      "1\n",
      "0\n",
      "Countdown finished!\n"
     ]
    }
   ],
   "source": [
    "# Q9\n",
    "countdown = int(input(\"Enter a number to start the countdown: \"))\n",
    "while countdown >= 0:\n",
    "    print(countdown)\n",
    "    countdown -= 1\n",
    "print(\"Countdown finished!\")"
   ]
  },
  {
   "cell_type": "code",
   "execution_count": 19,
   "id": "0d379084-92ff-4ef7-b34c-5fe2f7507326",
   "metadata": {},
   "outputs": [
    {
     "name": "stdin",
     "output_type": "stream",
     "text": [
      "Enter the number of rows for the triangle:  3\n"
     ]
    },
    {
     "name": "stdout",
     "output_type": "stream",
     "text": [
      "* \n",
      "* * \n",
      "* * * \n"
     ]
    }
   ],
   "source": [
    "# Q10\n",
    "n = int(input(\"Enter the number of rows for the triangle: \"))\n",
    "for i in range(1, n + 1):\n",
    "    print(\"* \" * i)"
   ]
  },
  {
   "cell_type": "code",
   "execution_count": null,
   "id": "505833ed-46e5-4fc2-ab48-f63a21899ade",
   "metadata": {},
   "outputs": [],
   "source": []
  }
 ],
 "metadata": {
  "kernelspec": {
   "display_name": "Python 3 (ipykernel)",
   "language": "python",
   "name": "python3"
  },
  "language_info": {
   "codemirror_mode": {
    "name": "ipython",
    "version": 3
   },
   "file_extension": ".py",
   "mimetype": "text/x-python",
   "name": "python",
   "nbconvert_exporter": "python",
   "pygments_lexer": "ipython3",
   "version": "3.12.7"
  }
 },
 "nbformat": 4,
 "nbformat_minor": 5
}
