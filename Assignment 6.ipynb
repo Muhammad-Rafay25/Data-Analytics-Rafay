{
 "cells": [
  {
   "cell_type": "code",
   "execution_count": 1,
   "id": "a8b9d740-4076-4015-ac37-3ab93731766a",
   "metadata": {},
   "outputs": [
    {
     "name": "stdout",
     "output_type": "stream",
     "text": [
      "Charging the electric vehicle.\n",
      "Filling up the gasoline tank.\n",
      "Driving the hybrid car.\n"
     ]
    }
   ],
   "source": [
    "# Question 1\n",
    "class ElectricVehicle:\n",
    "    def charge(self):\n",
    "        print(\"Charging the electric vehicle.\")\n",
    "\n",
    "class GasolineVehicle:\n",
    "    def fuel_up(self):\n",
    "        print(\"Filling up the gasoline tank.\")\n",
    "\n",
    "class HybridCar(ElectricVehicle, GasolineVehicle):\n",
    "    def drive(self):\n",
    "        print(\"Driving the hybrid car.\")\n",
    "\n",
    "hybrid_car = HybridCar()\n",
    "hybrid_car.charge()\n",
    "hybrid_car.fuel_up()\n",
    "hybrid_car.drive()"
   ]
  },
  {
   "cell_type": "code",
   "execution_count": 3,
   "id": "89a215c3-6286-436b-b621-f976f2edb287",
   "metadata": {},
   "outputs": [
    {
     "name": "stdout",
     "output_type": "stream",
     "text": [
      "Roar\n",
      "Meow\n"
     ]
    }
   ],
   "source": [
    "# Question 2\n",
    "class Animal:\n",
    "    def make_sound(self):\n",
    "        print(\"Animal makes a sound.\")\n",
    "\n",
    "class Lion(Animal):\n",
    "    def make_sound(self):\n",
    "        print(\"Roar\")\n",
    "\n",
    "class Cat(Animal):\n",
    "    def make_sound(self):\n",
    "        print(\"Meow\")\n",
    "\n",
    "lion = Lion()\n",
    "cat = Cat()\n",
    "lion.make_sound()\n",
    "cat.make_sound()"
   ]
  },
  {
   "cell_type": "code",
   "execution_count": 5,
   "id": "8ea1d23a-99c9-4fea-9535-d91f25ee21bc",
   "metadata": {},
   "outputs": [
    {
     "name": "stdout",
     "output_type": "stream",
     "text": [
      "Turning on the light...\n",
      "Light is ON\n",
      "Turning off the light...\n",
      "Light is OFF\n"
     ]
    }
   ],
   "source": [
    "# Question 3\n",
    "from abc import ABC, abstractmethod\n",
    "\n",
    "class SmartHomeDevice(ABC):\n",
    "    @abstractmethod\n",
    "    def turn_on(self):\n",
    "        pass\n",
    "\n",
    "    @abstractmethod\n",
    "    def turn_off(self):\n",
    "        pass\n",
    "\n",
    "class Light(SmartHomeDevice):\n",
    "    def turn_on(self):\n",
    "        print(\"Light is ON\")\n",
    "\n",
    "    def turn_off(self):\n",
    "        print(\"Light is OFF\")\n",
    "\n",
    "light = Light()\n",
    "print(\"Turning on the light...\")\n",
    "light.turn_on()\n",
    "print(\"Turning off the light...\")\n",
    "light.turn_off()"
   ]
  },
  {
   "cell_type": "code",
   "execution_count": 7,
   "id": "ca9a9f24-f91b-4b22-89af-3db9c505e943",
   "metadata": {},
   "outputs": [
    {
     "name": "stdout",
     "output_type": "stream",
     "text": [
      "Hello!\n",
      "Hello, John!\n",
      "Good morning, John!\n"
     ]
    }
   ],
   "source": [
    "# Question 4\n",
    "class Greeting:\n",
    "    def greet(self, *args):\n",
    "        if len(args) == 0:\n",
    "            print(\"Hello!\")\n",
    "        elif len(args) == 1:\n",
    "            print(f\"Hello, {args[0]}!\")\n",
    "        elif len(args) == 2:\n",
    "            print(f\"{args[1]}, {args[0]}!\")\n",
    "\n",
    "greet_obj = Greeting()\n",
    "greet_obj.greet()\n",
    "greet_obj.greet(\"John\")\n",
    "greet_obj.greet(\"John\", \"Good morning\")"
   ]
  },
  {
   "cell_type": "code",
   "execution_count": 9,
   "id": "6fecec91-ef94-42a0-91fa-7ebc5e0350df",
   "metadata": {},
   "outputs": [
    {
     "name": "stdout",
     "output_type": "stream",
     "text": [
      "Car Name: Toyota Camry\n",
      "Price Per Day: $50\n",
      "Rental Days: 5\n",
      "Total Rental Cost: $250\n"
     ]
    }
   ],
   "source": [
    "# Question 5\n",
    "class CarRental:\n",
    "    def __init__(self, name, price_per_day):\n",
    "        self.__name = name\n",
    "        self.__price_per_day = price_per_day\n",
    "        self.__rental_days = 0\n",
    "\n",
    "    def set_rental_days(self, days):\n",
    "        self.__rental_days = days\n",
    "\n",
    "    def get_name(self):\n",
    "        return self.__name\n",
    "\n",
    "    def get_price_per_day(self):\n",
    "        return self.__price_per_day\n",
    "\n",
    "    def get_rental_days(self):\n",
    "        return self.__rental_days\n",
    "\n",
    "    def calculate_total_cost(self):\n",
    "        return self.__price_per_day * self.__rental_days\n",
    "\n",
    "car = CarRental(\"Toyota Camry\", 50)\n",
    "car.set_rental_days(5)\n",
    "print(f\"Car Name: {car.get_name()}\")\n",
    "print(f\"Price Per Day: ${car.get_price_per_day()}\")\n",
    "print(f\"Rental Days: {car.get_rental_days()}\")\n",
    "print(f\"Total Rental Cost: ${car.calculate_total_cost()}\")"
   ]
  },
  {
   "cell_type": "code",
   "execution_count": null,
   "id": "eb59d4ec-c781-4dcd-a05c-d7dfae9cd7ed",
   "metadata": {},
   "outputs": [],
   "source": []
  }
 ],
 "metadata": {
  "kernelspec": {
   "display_name": "Python 3 (ipykernel)",
   "language": "python",
   "name": "python3"
  },
  "language_info": {
   "codemirror_mode": {
    "name": "ipython",
    "version": 3
   },
   "file_extension": ".py",
   "mimetype": "text/x-python",
   "name": "python",
   "nbconvert_exporter": "python",
   "pygments_lexer": "ipython3",
   "version": "3.12.7"
  }
 },
 "nbformat": 4,
 "nbformat_minor": 5
}
