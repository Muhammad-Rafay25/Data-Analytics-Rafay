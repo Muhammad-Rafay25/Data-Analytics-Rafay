{
 "cells": [
  {
   "cell_type": "code",
   "execution_count": 1,
   "id": "dabcae95-d433-4b71-8a0e-6ec027a639fd",
   "metadata": {},
   "outputs": [
    {
     "name": "stdin",
     "output_type": "stream",
     "text": [
      "Enter Your Age:  18\n",
      "Enter Your credit score:  5\n",
      "Enter Your income:  2\n"
     ]
    },
    {
     "name": "stdout",
     "output_type": "stream",
     "text": [
      "Eligible for Loan\n"
     ]
    }
   ],
   "source": [
    "#Q1. Write program to check a person’s eligibility for a loan based on age, credit score, and income.\n",
    "age = int(input('Enter Your Age: '))\n",
    "credit = int(input('Enter Your credit score: '))\n",
    "income = int(input('Enter Your income: '))\n",
    "\n",
    "if age >= 18:\n",
    "    print('Eligible for Loan')\n",
    "elif credit >= 650:\n",
    "    print('Eligible for Loan')\n",
    "elif income >=30000:\n",
    "    print('Eligible for Loan')\n",
    "elif credit >=700 and income >=25000:\n",
    "    print('Eligible for Loan')\n",
    "else:\n",
    "    print('Not Eligible for Loan')"
   ]
  },
  {
   "cell_type": "code",
   "execution_count": 3,
   "id": "897811ca-3f3d-4db9-a6e2-fd6faca3ee5c",
   "metadata": {},
   "outputs": [
    {
     "name": "stdin",
     "output_type": "stream",
     "text": [
      "Enter Your Age:  2\n"
     ]
    },
    {
     "name": "stdout",
     "output_type": "stream",
     "text": [
      "You Are Underage\n"
     ]
    }
   ],
   "source": [
    "#Q2. Write a Python program that checks if a person is an adult (age ≥ 18).\n",
    "age = int(input('Enter Your Age: '))\n",
    "if age < 18:\n",
    "    print('You Are Underage')\n",
    "else:\n",
    "    experience = int(input('Enter Your Experience Years: '))\n",
    "    \n",
    "    if experience >= 10:\n",
    "        print('You have a lot of experience')\n",
    "    elif 5 <= experience <= 9:\n",
    "        print('You have moderate experience')\n",
    "    elif 2 <= experience <= 4:\n",
    "        print('You are relatively new')\n",
    "    else:\n",
    "        print('You Are Just Starting Out')"
   ]
  },
  {
   "cell_type": "code",
   "execution_count": 5,
   "id": "f7b469e2-19bd-4dde-ac52-1279e6be5d7c",
   "metadata": {},
   "outputs": [
    {
     "name": "stdout",
     "output_type": "stream",
     "text": [
      "2025043725888\n",
      "2025043725888\n"
     ]
    }
   ],
   "source": [
    "#Q3. Write a program to explore below variables\n",
    "#(A)\n",
    "a = [2, 3, 0.1, 5, 'Rafay']\n",
    "b = [2, 3, 0.1, 5, 'Rafay']\n",
    "b = a\n",
    "print (id(a))\n",
    "print (id(b))"
   ]
  },
  {
   "cell_type": "code",
   "execution_count": 7,
   "id": "019157af-f6c5-45f7-9c1a-4ec7edc92f7c",
   "metadata": {},
   "outputs": [],
   "source": [
    "import sys"
   ]
  },
  {
   "cell_type": "code",
   "execution_count": 9,
   "id": "3697bd5f-9fd1-4aa5-9606-90f2e52367d2",
   "metadata": {},
   "outputs": [
    {
     "data": {
      "text/plain": [
       "104"
      ]
     },
     "execution_count": 9,
     "metadata": {},
     "output_type": "execute_result"
    }
   ],
   "source": [
    "#(B)\n",
    "sys.getsizeof(a)"
   ]
  },
  {
   "cell_type": "code",
   "execution_count": 11,
   "id": "74f5fcbf-c953-4ded-9689-bf9faf22d530",
   "metadata": {},
   "outputs": [],
   "source": [
    "a.append(104)"
   ]
  },
  {
   "cell_type": "code",
   "execution_count": 13,
   "id": "614ac167-e2f7-4fd9-beab-79c81bafcab3",
   "metadata": {},
   "outputs": [
    {
     "data": {
      "text/plain": [
       "[2, 3, 0.1, 5, 'Rafay', 104]"
      ]
     },
     "execution_count": 13,
     "metadata": {},
     "output_type": "execute_result"
    }
   ],
   "source": [
    "a"
   ]
  },
  {
   "cell_type": "code",
   "execution_count": 15,
   "id": "5c1f08ab-e469-4bb6-bd1f-b931e6138d41",
   "metadata": {},
   "outputs": [
    {
     "name": "stdin",
     "output_type": "stream",
     "text": [
      "Enter Your Email Address:  mog\n"
     ]
    },
    {
     "name": "stdout",
     "output_type": "stream",
     "text": [
      "Invalid Email Format\n"
     ]
    }
   ],
   "source": [
    "# question:4 \n",
    "email = input('Enter Your Email Address: ')\n",
    "if ('@' or '.') in email:\n",
    "    print('Email Format is Valid')\n",
    "else:\n",
    "    print('Invalid Email Format')"
   ]
  },
  {
   "cell_type": "code",
   "execution_count": 17,
   "id": "ffe3955d-6a3b-4c7f-8101-3206486df5c1",
   "metadata": {},
   "outputs": [
    {
     "name": "stdout",
     "output_type": "stream",
     "text": [
      "[<class 'int'>, <class 'float'>, <class 'str'>, <class 'list'>, <class 'tuple'>]\n"
     ]
    }
   ],
   "source": [
    "# question 5\n",
    "x = (11,22.333, 'Apple', [1,2,3], ('a', 'b'))\n",
    "\n",
    "data_types = []\n",
    "for element in x:\n",
    "    data_types.append(type(element))\n",
    "print(data_types)"
   ]
  },
  {
   "cell_type": "code",
   "execution_count": 19,
   "id": "abda1a4b-ddc1-4fe4-96f1-0440c855ce8c",
   "metadata": {},
   "outputs": [
    {
     "name": "stdin",
     "output_type": "stream",
     "text": [
      "Enter the username to check:  rafay@\n"
     ]
    },
    {
     "name": "stdout",
     "output_type": "stream",
     "text": [
      "rafay@ does not exist in the list.\n"
     ]
    }
   ],
   "source": [
    "#Q6. Write a Python program that:\n",
    "\n",
    "users = [(\"alice\", \"admin\"), (\"bob\", \"user\"), (\"charlie\", \"moderator\")]\n",
    "\n",
    "username_to_check = input(\"Enter the username to check: \")\n",
    "\n",
    "if any(username_to_check == user[0] for user in users):\n",
    "    print(f\"{username_to_check} exists in the list.\")\n",
    "    \n",
    "   \n",
    "    user_tuple = next(user for user in users if user[0] == username_to_check)\n",
    "    \n",
    "  \n",
    "    if user_tuple is users[0]:  \n",
    "        print(f\"{username_to_check} is the admin.\")\n",
    "    else:\n",
    "        print(f\"{username_to_check} is not the admin.\")\n",
    "else:\n",
    "    print(f\"{username_to_check} does not exist in the list.\")"
   ]
  },
  {
   "cell_type": "code",
   "execution_count": 21,
   "id": "bca52327-6143-4763-a18f-a8d7edb18318",
   "metadata": {},
   "outputs": [
    {
     "name": "stdout",
     "output_type": "stream",
     "text": [
      "Person1 and Person2 are Siblings.\n",
      "Person1 and Person3 are Cousins.\n"
     ]
    }
   ],
   "source": [
    "# question 7 \n",
    "person1 = ['John', 'Mary', 'Springfield', '123']\n",
    "person2 = ['John', 'Mary', 'Springfield', '123']\n",
    "person3 = ['John', 'Mary', 'Springfield', '456']\n",
    "\n",
    "if person1 is person2:\n",
    "    print(\"Person1 and Person2 are the same individual.\")\n",
    "elif person1 == person2:\n",
    "    print(\"Person1 and Person2 are Siblings.\")\n",
    "\n",
    "if person1 is person3:\n",
    "    print(\"Person1 and Person3 are the same individual.\")\n",
    "elif person1[:3] == person3[:3] and person1[3] != person3[3]:\n",
    "    print(\"Person1 and Person3 are Cousins.\")"
   ]
  },
  {
   "cell_type": "code",
   "execution_count": 23,
   "id": "4f2c25d8-4760-4ea4-9c88-6fb8c05e599a",
   "metadata": {},
   "outputs": [
    {
     "name": "stdin",
     "output_type": "stream",
     "text": [
      "Enter the book's title:  master\n",
      "Enter the author's name:  rr\n",
      "Enter the year of publication:  12\n",
      "Enter the price of the book:  5\n"
     ]
    },
    {
     "name": "stdout",
     "output_type": "stream",
     "text": [
      "\n",
      "Book Details:\n",
      "Title: master\n",
      "Author: rr\n",
      "Year of Publication: 12\n",
      "Price: 5.0\n"
     ]
    }
   ],
   "source": [
    "# question 8\n",
    "title = input(\"Enter the book's title: \")\n",
    "author = input(\"Enter the author's name: \")\n",
    "year = int(input(\"Enter the year of publication: \"))\n",
    "price = float(input(\"Enter the price of the book: \"))\n",
    "book_details = (title, author, year, price)\n",
    "print(\"\\nBook Details:\")\n",
    "print(f\"Title: {book_details[0]}\")\n",
    "print(f\"Author: {book_details[1]}\")\n",
    "print(f\"Year of Publication: {book_details[2]}\")\n",
    "print(f\"Price: {book_details[3]}\")"
   ]
  },
  {
   "cell_type": "code",
   "execution_count": 25,
   "id": "3d8b0a35-429c-40bb-a0bb-4f8abaf0bcfd",
   "metadata": {},
   "outputs": [
    {
     "name": "stdin",
     "output_type": "stream",
     "text": [
      "Enter the subject you want to check:  gg\n"
     ]
    },
    {
     "name": "stdout",
     "output_type": "stream",
     "text": [
      "The subject 'gg' is not available.\n"
     ]
    }
   ],
   "source": [
    "# question 9\n",
    "offered_subjects = [\"Mathematics\", \"Physics\", \"Chemistry\", \"Biology\", \"Computer Science\"]\n",
    "chosen_subject = input(\"Enter the subject you want to check: \")\n",
    "if chosen_subject in offered_subjects:\n",
    "    print(f\"The subject '{chosen_subject}' is available.\")\n",
    "else:\n",
    "    print(f\"The subject '{chosen_subject}' is not available.\")"
   ]
  },
  {
   "cell_type": "code",
   "execution_count": 29,
   "id": "3e923f87-eb36-4f77-8534-34b6052a9a83",
   "metadata": {},
   "outputs": [
    {
     "name": "stdin",
     "output_type": "stream",
     "text": [
      "Enter a number to find its first occurrence:  10\n"
     ]
    },
    {
     "name": "stdout",
     "output_type": "stream",
     "text": [
      "The number 10 first occurs at index 0.\n"
     ]
    },
    {
     "name": "stdin",
     "output_type": "stream",
     "text": [
      "Enter another number to count its occurrences:  50\n"
     ]
    },
    {
     "name": "stdout",
     "output_type": "stream",
     "text": [
      "The number 50 appears 1 time(s) in the tuple.\n"
     ]
    }
   ],
   "source": [
    "# question 10\n",
    "numbers = (10, 20, 10, 30, 40, 20, 10, 50, 20)\n",
    "num1 = int(input(\"Enter a number to find its first occurrence: \"))\n",
    "if num1 in numbers:\n",
    "    index = numbers.index(num1)\n",
    "    print(f\"The number {num1} first occurs at index {index}.\")\n",
    "else:\n",
    "    print(f\"The number {num1} is not in the tuple.\")\n",
    "num2 = int(input(\"Enter another number to count its occurrences: \"))\n",
    "count = numbers.count(num2)\n",
    "print(f\"The number {num2} appears {count} time(s) in the tuple.\")"
   ]
  },
  {
   "cell_type": "code",
   "execution_count": null,
   "id": "2d23e80f-270b-47ac-bcdf-33aa937d540d",
   "metadata": {},
   "outputs": [],
   "source": []
  }
 ],
 "metadata": {
  "kernelspec": {
   "display_name": "Python 3 (ipykernel)",
   "language": "python",
   "name": "python3"
  },
  "language_info": {
   "codemirror_mode": {
    "name": "ipython",
    "version": 3
   },
   "file_extension": ".py",
   "mimetype": "text/x-python",
   "name": "python",
   "nbconvert_exporter": "python",
   "pygments_lexer": "ipython3",
   "version": "3.12.7"
  }
 },
 "nbformat": 4,
 "nbformat_minor": 5
}
